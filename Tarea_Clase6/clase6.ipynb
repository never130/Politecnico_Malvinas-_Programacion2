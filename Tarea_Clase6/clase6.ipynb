{
 "cells": [
  {
   "cell_type": "markdown",
   "metadata": {},
   "source": [
    "1. Calculadora de IMC (Índice de Masa Corporal):\n",
    "\n",
    "Cree una función que calcule el IMC (Índice de Masa Corporal) de una persona a partir de su peso y altura. La función debe recibir como parámetros el peso (en kg) y la altura (en cm) y devolver el valor del IMC.\n",
    "\n",
    "Opcional: Implemente una segunda función que clasifique el IMC según los estándares de la OMS:\n",
    "\n",
    "Bajo peso: IMC < 18.5\n",
    "Peso normal: 18.5 <= IMC < 25\n",
    "Sobrepeso: 25 <= IMC < 30\n",
    "Obesidad: IMC >= 30"
   ]
  },
  {
   "cell_type": "code",
   "execution_count": 9,
   "metadata": {},
   "outputs": [
    {
     "name": "stdout",
     "output_type": "stream",
     "text": [
      "Peso normal IMC: 20.7\n"
     ]
    }
   ],
   "source": [
    "def imc(peso, altura):\n",
    "    resultado = peso / (altura**2)\n",
    "    if resultado < 18.5:\n",
    "        return f\"Bajo peso IMC: {round(resultado,2)}\"\n",
    "    elif resultado < 25:\n",
    "        return f\"Peso normal IMC: {round(resultado,2)}\"\n",
    "    else:\n",
    "        return f\"Obesidad IMC: {round(resultado,2)}\"\n",
    "\n",
    "\n",
    "print(imc(55, 1.63))"
   ]
  },
  {
   "cell_type": "markdown",
   "metadata": {},
   "source": [
    "2. Analizador de números:\n",
    "\n",
    "Cree una función que reciba un número entero como parámetro y devuelva un diccionario con la siguiente información:\n",
    "\n",
    "- Si el número es par o impar\n",
    "- Si el número es positivo, negativo o cero\n",
    "- Si el número es divisible por 3\n",
    "- Si el número es divisible por 5\n",
    "- Si el número es divisible por 3 y por 5\n",
    "Opcional: Implemente la función utilizando una función lambda para cada una de las verificaciones."
   ]
  },
  {
   "cell_type": "code",
   "execution_count": 10,
   "metadata": {},
   "outputs": [
    {
     "name": "stdout",
     "output_type": "stream",
     "text": [
      "{'Par': False, 'Positivo': True, 'Negativo': False, 'Cero': False, 'Divisible por 3': False, 'Divisible por 5': True, 'Divisible por 3 y 5': False}\n"
     ]
    }
   ],
   "source": [
    "def analizador_de_numeros(num):\n",
    "    es_par = lambda x: x % 2 == 0\n",
    "    es_positivo = lambda x: x > 0\n",
    "    es_negativo = lambda x: x < 0\n",
    "    es_cero = lambda x: x == 0\n",
    "    es_divisible_por_3 = lambda x: x % 3 == 0\n",
    "    es_divisible_por_5 = lambda x: x % 5 == 0\n",
    "    es_divisible_por_3_y_5 = lambda x: es_divisible_por_3(x) and es_divisible_por_5(x)\n",
    "\n",
    "    resultado = {\n",
    "        \"Par\": es_par(num),\n",
    "        \"Positivo\": es_positivo(num),\n",
    "        \"Negativo\": es_negativo(num),\n",
    "        \"Cero\": es_cero(num),\n",
    "        \"Divisible por 3\": es_divisible_por_3(num),\n",
    "        \"Divisible por 5\": es_divisible_por_5(num),\n",
    "        \"Divisible por 3 y 5\": es_divisible_por_3_y_5(num)\n",
    "    }\n",
    "    return resultado\n",
    "\n",
    "print(analizador_de_numeros(5))\n"
   ]
  },
  {
   "cell_type": "markdown",
   "metadata": {},
   "source": [
    "3. Calculadora de área y perímetro de figuras geométricas:\n",
    "\n",
    "Cree funciones para calcular el área y perímetro de las siguientes figuras geométricas:\n",
    "\n",
    "Cuadrado\n",
    "Triángulo (equilátero, rectángulo e isósceles)\n",
    "Círculo\n",
    "Rectángulo\n",
    "Cada función debe recibir las dimensiones necesarias como parámetros y devolver el valor correspondiente del área o perímetro."
   ]
  },
  {
   "cell_type": "code",
   "execution_count": 11,
   "metadata": {},
   "outputs": [
    {
     "name": "stdout",
     "output_type": "stream",
     "text": [
      "Cuadrado: (36, 32)\n",
      "Triángulo Equilátero: (6.928203230275509, 12)\n",
      "Triángulo Rectángulo: (12.0, 13)\n",
      "Triángulo Isósceles: (9.16515138991168, 14)\n",
      "Círculo: (201.06192982974676, 50.26548245743669)\n",
      "Rectángulo: (96, 40)\n"
     ]
    }
   ],
   "source": [
    "import math\n",
    "\n",
    "def cuadrado(area_lado, perimetro_lado):\n",
    "    area = area_lado ** 2\n",
    "    perimetro = 4 * perimetro_lado\n",
    "    return area, perimetro\n",
    "\n",
    "def triangulo_equilatero(lado):\n",
    "    area = (math.sqrt(3) / 4) * lado ** 2\n",
    "    perimetro = 3 * lado\n",
    "    return area, perimetro\n",
    "\n",
    "def triangulo_rectangulo(base, altura, lado1, lado2):\n",
    "    area = (base * altura) / 2\n",
    "    perimetro = base + lado1 + lado2\n",
    "    return area, perimetro\n",
    "\n",
    "def triangulo_isosceles(base, lado):\n",
    "    altura = math.sqrt(lado ** 2 - (base ** 2 / 4))\n",
    "    area = (base * altura) / 2\n",
    "    perimetro = 2 * lado + base\n",
    "    return area, perimetro\n",
    "\n",
    "def circulo(radio):\n",
    "    area = math.pi * radio ** 2\n",
    "    perimetro = 2 * math.pi * radio\n",
    "    return area, perimetro\n",
    "\n",
    "def rectangulo(base, altura):\n",
    "    area = base * altura\n",
    "    perimetro = 2 * (base + altura)\n",
    "    return area, perimetro\n",
    "\n",
    "print(\"Cuadrado:\", cuadrado(6, 8))\n",
    "print(\"Triángulo Equilátero:\", triangulo_equilatero(4))\n",
    "print(\"Triángulo Rectángulo:\", triangulo_rectangulo(6, 4, 3, 4))\n",
    "print(\"Triángulo Isósceles:\", triangulo_isosceles(4, 5))\n",
    "print(\"Círculo:\", circulo(8))\n",
    "print(\"Rectángulo:\", rectangulo(8, 12))"
   ]
  }
 ],
 "metadata": {
  "kernelspec": {
   "display_name": "Python 3",
   "language": "python",
   "name": "python3"
  },
  "language_info": {
   "codemirror_mode": {
    "name": "ipython",
    "version": 3
   },
   "file_extension": ".py",
   "mimetype": "text/x-python",
   "name": "python",
   "nbconvert_exporter": "python",
   "pygments_lexer": "ipython3",
   "version": "3.12.1"
  }
 },
 "nbformat": 4,
 "nbformat_minor": 2
}
