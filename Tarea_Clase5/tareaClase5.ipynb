{
 "cells": [
  {
   "cell_type": "markdown",
   "metadata": {},
   "source": [
    "1. **Calculadora Simple**: Crea un programa que solicite al usuario dos números y una operación (suma, resta, multiplicación o división). Luego, utilizando estructuras condicionales (if, elif, else), realiza la operación seleccionada e imprime el resultado."
   ]
  },
  {
   "cell_type": "code",
   "execution_count": 14,
   "metadata": {},
   "outputs": [
    {
     "name": "stdout",
     "output_type": "stream",
     "text": [
      "3.0 - 2.0 = 1.0\n"
     ]
    }
   ],
   "source": [
    "# 1\n",
    "a = float(input(\"Ingresar el primer numero: \"))\n",
    "b = float(input(\"Ingresar el segundo numero: \"))\n",
    "tipo_de_operacion = input(\"Ingresa el tipo de operacion: 1) Suma | 2) Resta | 3) Division | 4) Multiplicacion\")\n",
    "\n",
    "if tipo_de_operacion == \"1\":\n",
    "    resultado = a + b\n",
    "    print(f\"{a} + {b} = {resultado}\")\n",
    "elif tipo_de_operacion == \"2\":\n",
    "    resultado = a - b\n",
    "    print(f\"{a} - {b} = {resultado}\")\n",
    "elif tipo_de_operacion == \"3\":\n",
    "    resultado = a / b\n",
    "    print(f\"{a} / {b} = {resultado}\")\n",
    "elif tipo_de_operacion == \"4\":\n",
    "    resultado = a * b\n",
    "    print(f\"{a} * {b} = {resultado}\")\n",
    "else:\n",
    "    print(\"Imposible de operar :(\")\n"
   ]
  },
  {
   "cell_type": "markdown",
   "metadata": {},
   "source": [
    "2. **Contador de Números Pares e Impares**: Escribe un programa que recorra una lista de números del 1 al 20. Utilizando un bucle for, determina cuántos de estos números son pares y cuántos son impares. Al final, imprime la cantidad de números pares e impares."
   ]
  },
  {
   "cell_type": "code",
   "execution_count": 21,
   "metadata": {},
   "outputs": [
    {
     "name": "stdout",
     "output_type": "stream",
     "text": [
      "Numeros pares: [2, 4, 6, 8, 10, 12, 14, 16, 18, 20]\n",
      "Numeros impares: [1, 3, 5, 7, 9, 11, 13, 15, 17, 19]\n"
     ]
    }
   ],
   "source": [
    "# 2\n",
    "lista_de_numeros = list(range(1, 21))\n",
    "pares = []\n",
    "impares = []\n",
    "\n",
    "for x in lista_de_numeros:\n",
    "    if x % 2 == 0:\n",
    "        pares.append(x)\n",
    "    else:\n",
    "        impares.append(x)\n",
    "        \n",
    "print(f\"Numeros pares: {pares}\")\n",
    "print(f\"Numeros impares: {impares}\")"
   ]
  },
  {
   "cell_type": "markdown",
   "metadata": {},
   "source": [
    "3. **Validación de Contraseña:** Pide al usuario que ingrese una contraseña. Utiliza un bucle while para seguir solicitando la contraseña hasta que coincida con una contraseña predefinida (por ejemplo, \"python123\"). Muestra un mensaje de éxito cuando la contraseña es correcta."
   ]
  },
  {
   "cell_type": "code",
   "execution_count": 12,
   "metadata": {},
   "outputs": [
    {
     "name": "stdout",
     "output_type": "stream",
     "text": [
      "Perdiste\n"
     ]
    }
   ],
   "source": [
    "# 3\n",
    "contraseña = input(\"Ingresa una contraseña: \")\n",
    "contraseña_correcta = \"python123\"\n",
    "intentos = 3\n",
    "\n",
    "while contraseña != contraseña_correcta:\n",
    "    intentos -= 1\n",
    "    if intentos > 0:\n",
    "        contraseña = input(f\"Te quedan {intentos} intento{'s' if intentos > 1 else ''}. Ingrese de nuevo la contraseña: \")\n",
    "    else:\n",
    "        print(\"Perdiste\")\n",
    "        break\n",
    "\n",
    "if contraseña == contraseña_correcta:\n",
    "    print(\"Contraseña correcta.\")"
   ]
  },
  {
   "cell_type": "markdown",
   "metadata": {},
   "source": [
    "4. **Identificador de Números Primos:** Crea un programa que solicite al usuario un número entero. Utilizando un bucle for, verifica si el número es primo (es decir, solo divisible por 1 y por sí mismo). Imprime un mensaje indicando si el número es primo o no."
   ]
  },
  {
   "cell_type": "code",
   "execution_count": 16,
   "metadata": {},
   "outputs": [
    {
     "name": "stdout",
     "output_type": "stream",
     "text": [
      "8 no es un número primo\n"
     ]
    }
   ],
   "source": [
    "numero_entero = int(input(\"Ingrese un número entero: \"))\n",
    "\n",
    "if numero_entero <= 1:\n",
    "    print(f\"{numero_entero} no es un número primo\")\n",
    "else:\n",
    "    es_primo = True\n",
    "    for i in range(2, numero_entero):\n",
    "        if numero_entero % i == 0:\n",
    "            es_primo = False\n",
    "            break\n",
    "\n",
    "    if es_primo:\n",
    "        print(f\"{numero_entero} es un número primo\")\n",
    "    else:\n",
    "        print(f\"{numero_entero} no es un número primo\")\n"
   ]
  },
  {
   "cell_type": "markdown",
   "metadata": {},
   "source": [
    "5. **Juego de Adivinanza:** Genera un número aleatorio entre 1 y 50. Pide al usuario que adivine el número. Utiliza un bucle while para permitir múltiples intentos. Da pistas al usuario si el número ingresado es demasiado alto o bajo. Finaliza el juego cuando el usuario adivine correctamente."
   ]
  },
  {
   "cell_type": "code",
   "execution_count": 11,
   "metadata": {},
   "outputs": [
    {
     "name": "stdout",
     "output_type": "stream",
     "text": [
      "Muy alto\n",
      "Muy alto\n",
      "Cerca. Sigue intentando!\n",
      "Cerca. Sigue intentando!\n",
      "Cerca. Sigue intentando!\n",
      "¡Adivinaste el número! Era 19.\n"
     ]
    }
   ],
   "source": [
    "from random import randrange\n",
    "\n",
    "\n",
    "numero_aleatorio = randrange(1, 51)\n",
    "while True:\n",
    "    adivinar_numero = int(input(\"Ingrese el numero: \"))\n",
    "    diferencia = abs(adivinar_numero - numero_aleatorio)  # Calculo la diferencia\n",
    "\n",
    "    if adivinar_numero > numero_aleatorio:\n",
    "        if diferencia > 10:\n",
    "            print(\"Muy alto\")\n",
    "        elif diferencia > 5:\n",
    "            print(\"Alto\")\n",
    "        else:\n",
    "            print(\"Cerca. Sigue intentando!\")\n",
    "    elif adivinar_numero < numero_aleatorio:\n",
    "        if diferencia > 10:\n",
    "            print(\"Muy bajo\")\n",
    "        elif diferencia > 5:\n",
    "            print(\"Bajo.\")\n",
    "        else:\n",
    "            print(\"Cerca. Sigue intentando!\")\n",
    "    else:\n",
    "        print(f\"¡Adivinaste el número! Era {numero_aleatorio}.\")\n",
    "        break"
   ]
  },
  {
   "cell_type": "markdown",
   "metadata": {},
   "source": [
    "6. **Tabla de Multiplicar:** Pide al usuario que ingrese un número entero. Utiliza un bucle for para imprimir la tabla de multiplicar de ese número del 1 al 10. Por ejemplo, si el usuario ingresa 7, el programa debe imprimir:"
   ]
  },
  {
   "cell_type": "code",
   "execution_count": 28,
   "metadata": {},
   "outputs": [
    {
     "name": "stdout",
     "output_type": "stream",
     "text": [
      "TABLA DEL 3\n",
      "------------\n",
      "3 x 1 = 3\n",
      "3 x 2 = 6\n",
      "3 x 3 = 9\n",
      "3 x 4 = 12\n",
      "3 x 5 = 15\n",
      "3 x 6 = 18\n",
      "3 x 7 = 21\n",
      "3 x 8 = 24\n",
      "3 x 9 = 27\n",
      "3 x 10 = 30\n"
     ]
    }
   ],
   "source": [
    "ingrese_numero = int(input(\"Ingresa la tabla del: \"))\n",
    "print(f\"TABLA DEL {ingrese_numero}\\n------------\")\n",
    "\n",
    "for x in range(1, 11):\n",
    "    resultado = x * ingrese_numero\n",
    "    print(f\"{ingrese_numero} x {x} = {resultado}\")"
   ]
  }
 ],
 "metadata": {
  "kernelspec": {
   "display_name": "Python 3",
   "language": "python",
   "name": "python3"
  },
  "language_info": {
   "codemirror_mode": {
    "name": "ipython",
    "version": 3
   },
   "file_extension": ".py",
   "mimetype": "text/x-python",
   "name": "python",
   "nbconvert_exporter": "python",
   "pygments_lexer": "ipython3",
   "version": "3.12.1"
  }
 },
 "nbformat": 4,
 "nbformat_minor": 2
}
