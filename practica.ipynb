{
 "cells": [
  {
   "cell_type": "markdown",
   "metadata": {},
   "source": [
    "# Este es un ejemplo de practicas en formato Jupyter\n",
    "<font color=\"grey\"> <b>Practicar la creación de un repositorio en GitHub y la manipulación de archivos en formato Jupyter Notebook (.ipynb).<b></font>"
   ]
  },
  {
   "cell_type": "code",
   "execution_count": 7,
   "metadata": {},
   "outputs": [
    {
     "name": "stdout",
     "output_type": "stream",
     "text": [
      "Bienvenido Ever al archivo de práctica.\n"
     ]
    }
   ],
   "source": [
    "# Definimos una funcion de tipo string.\n",
    "def saludo(nombre: str) -> str:\n",
    "    return f\"Bienvenido {nombre} al archivo de práctica.\"\n",
    "\n",
    "\n",
    "# Se crea una variable de tipo str y se invoca a la funcion.\n",
    "nombre: str = input(\"Ingresa tu nombre: \")\n",
    "print(saludo(nombre))"
   ]
  }
 ],
 "metadata": {
  "kernelspec": {
   "display_name": "Python 3",
   "language": "python",
   "name": "python3"
  },
  "language_info": {
   "codemirror_mode": {
    "name": "ipython",
    "version": 3
   },
   "file_extension": ".py",
   "mimetype": "text/x-python",
   "name": "python",
   "nbconvert_exporter": "python",
   "pygments_lexer": "ipython3",
   "version": "3.12.1"
  }
 },
 "nbformat": 4,
 "nbformat_minor": 2
}
