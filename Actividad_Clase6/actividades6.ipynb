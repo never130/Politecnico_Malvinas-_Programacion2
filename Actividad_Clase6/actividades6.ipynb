{
 "cells": [
  {
   "cell_type": "markdown",
   "metadata": {},
   "source": [
    "1. Crear una función llamada “usuario” que reciba como parámetro un nombre y devuelva un mensaje “Bienvenido al sistema {nombre}”.\n",
    "2. llamar a la función “usuario” \n",
    "3. Escribe una función que tome dos números como argumentos y devuelva su suma. \n",
    "4. Crea una función que reciba dos números y una operación (suma, resta, multiplicación, división) y devuelva el resultado. \n",
    "5. Conversor de moneda: Crea una función que convierta de pesos a dólares, que reciba como parámetro la cantidad de pesos y el valor del dólar y devuelva la cantidad de dólares. \n",
    "6. Escribe una función que tome una lista de números como argumento y devuelva la suma de los números positivos y la suma de los números negativos en una tupla. \n",
    "7. Crear una función que reciba un número como parámetro y devuelva True si es primo y False si no lo es. \n",
    "8. Escribe una función que tome una lista de números como argumento y devuelva el número más grande y el número más pequeño en una tupla.\n"
   ]
  },
  {
   "cell_type": "code",
   "execution_count": 14,
   "metadata": {},
   "outputs": [
    {
     "data": {
      "text/plain": [
       "6"
      ]
     },
     "execution_count": 14,
     "metadata": {},
     "output_type": "execute_result"
    }
   ],
   "source": [
    "# 1\n",
    "def usuario(nombre: str) -> str:\n",
    "    return f\"Bienvenido al sistema {nombre}\"\n",
    "\n",
    "\n",
    "# 2\n",
    "usuario(\"Ever\")\n",
    "\n",
    "\n",
    "# 3\n",
    "def suma(a: int, b: int) -> int:\n",
    "    return f\"la suma de {a} y {b} es\", a + b\n",
    "\n",
    "\n",
    "suma(2, 4)\n",
    "\n",
    "suma2 = lambda num1, num2: num1 + num2\n",
    "suma2(3, 4)\n",
    "\n",
    "\n",
    "# 4\n",
    "def mi_calculo(a, b, operacion):\n",
    "    return operacion(a, b)\n",
    "\n",
    "\n",
    "sumar3 = lambda a, b: a + b\n",
    "restar = lambda a, b: a - b\n",
    "division = lambda a, b: a / b\n",
    "multiplicacion = lambda a, b: a * b\n",
    "\n",
    "mi_calculo(2, 4, sumar3)"
   ]
  },
  {
   "cell_type": "code",
   "execution_count": null,
   "metadata": {},
   "outputs": [],
   "source": [
    " "
   ]
  }
 ],
 "metadata": {
  "kernelspec": {
   "display_name": "Python 3",
   "language": "python",
   "name": "python3"
  },
  "language_info": {
   "codemirror_mode": {
    "name": "ipython",
    "version": 3
   },
   "file_extension": ".py",
   "mimetype": "text/x-python",
   "name": "python",
   "nbconvert_exporter": "python",
   "pygments_lexer": "ipython3",
   "version": "3.12.1"
  }
 },
 "nbformat": 4,
 "nbformat_minor": 2
}
