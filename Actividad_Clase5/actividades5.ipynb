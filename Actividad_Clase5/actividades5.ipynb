{
 "cells": [
  {
   "cell_type": "markdown",
   "metadata": {},
   "source": [
    "1. Ingresar dos números por teclado a y b. Si a es mayor que b, imprimir ‘Hola Politécnico Malvinas’ \n",
    "2. Ingresar dos números por teclado a y b. Si a no es igual a b, imprimir ‘Hola Politécnico Malvinas’ \n",
    "3. Ingresar dos números por teclado a y b. Si a es igual a b, imprimir ‘son iguales’ sino imprimir ‘son distintos’ \n",
    "4. Ingresar dos números por teclado a y b. Si a es igual a b, imprimir 1 si a es mayor que b, imprimir 2 sino imprimir 3. \n",
    "5. Ingrese cuatro números por teclado a, b, c y d. Si a es igual b y c es igual a d, imprimir ‘Hola Politécnico Malvinas’ \n",
    "6. Ingrese cuatro números por teclado a, b, c y d. Si a es igual b ó c es igual a d, imprimir ‘Hola Politécnico Malvinas’ \n",
    "7. Ingresar la edad de una persona por teclado, mostrar por pantalla si es mayor o menor de edad. \n",
    "8. Ingresar un número por teclado y mostrar por pantalla si es para o impar. \n",
    "9. Ingresar por teclado tres números y mostrar por pantalla el mayor de los tres. \n",
    "10. Ingresar por teclado un nombre, si la variable nombre, no es nula mostrar por pantalla ‘Bienvenido ‘+ nombre, sino mostrar ‘Bienvenido anónimo’ "
   ]
  },
  {
   "cell_type": "code",
   "execution_count": 3,
   "metadata": {},
   "outputs": [],
   "source": [
    "# 1\n",
    "numero_A = int(input(\"Insertar primer numero: \"))\n",
    "numero_B = int(input(\"Insertar segundo numero: \"))\n",
    "\n",
    "if numero_A > numero_B:\n",
    "    print(\"Hola Politecnico Malvinas\")"
   ]
  },
  {
   "cell_type": "code",
   "execution_count": 4,
   "metadata": {},
   "outputs": [
    {
     "name": "stdout",
     "output_type": "stream",
     "text": [
      "Hola Politecnico Malvinas\n"
     ]
    }
   ],
   "source": [
    "# 2\n",
    "a = int(input(\"Ingresar el primer numero: \"))\n",
    "b = int(input(\"Ingresar el segundo numero: \"))\n",
    "\n",
    "if a != b:\n",
    "    print(\"Hola Politecnico Malvinas\")"
   ]
  },
  {
   "cell_type": "code",
   "execution_count": null,
   "metadata": {},
   "outputs": [],
   "source": [
    "# 3\n",
    "a = int(input(\"Ingresar el primer numero: \"))\n",
    "b = int(input(\"Ingresar el segundo numero: \"))\n",
    "\n",
    "if a == b:\n",
    "    print(\"son iguales\")\n",
    "else:\n",
    "    print(\"son distintos\")"
   ]
  },
  {
   "cell_type": "code",
   "execution_count": null,
   "metadata": {},
   "outputs": [],
   "source": [
    "# 4. Ingresar dos números por teclado a y b. Si a es igual a b,\n",
    "#  imprimir 1 si a es mayor que b, imprimir 2 sino imprimir 3.\n",
    "\n",
    "a = int(input(\"Ingresar el primer numero: \"))\n",
    "b = int(input(\"Ingresar el segundo numero: \"))\n",
    "\n",
    "if a == b:\n",
    "    print(1)\n",
    "elif a > b:\n",
    "    print(2)\n",
    "else:\n",
    "    print(3)"
   ]
  },
  {
   "cell_type": "code",
   "execution_count": 5,
   "metadata": {},
   "outputs": [
    {
     "name": "stdout",
     "output_type": "stream",
     "text": [
      "Hola Politecnico Malvinas\n"
     ]
    }
   ],
   "source": [
    "# 5. Ingrese cuatro números por teclado a, b, c y d. \n",
    "# Si a es igual b y c es igual a d, imprimir ‘Hola Politécnico Malvinas’ \n",
    "\n",
    "a = int(input(\"Ingresar el primer numero: \"))\n",
    "b = int(input(\"Ingresar el segundo numero: \"))\n",
    "c = int(input(\"Ingresar el tercer numero: \"))\n",
    "d = int(input(\"Ingresar el cuarto numero: \"))\n",
    "\n",
    "if a == b and c == d:\n",
    "    print(\"Hola Politecnico Malvinas\")\n"
   ]
  },
  {
   "cell_type": "code",
   "execution_count": null,
   "metadata": {},
   "outputs": [],
   "source": [
    "# 6. Ingrese cuatro números por teclado a, b, c y d. \n",
    "# Si a es igual b ó c es igual a d, imprimir ‘Hola Politécnico Malvinas’ \n",
    "\n",
    "a = int(input(\"Ingresar el primer numero: \"))\n",
    "b = int(input(\"Ingresar el segundo numero: \"))\n",
    "c = int(input(\"Ingresar el tercer numero: \"))\n",
    "d = int(input(\"Ingresar el cuarto numero: \"))\n",
    "\n",
    "if a == b or c == d:\n",
    "    print(\"Hola Politecnico Malvinas\")"
   ]
  },
  {
   "cell_type": "code",
   "execution_count": 7,
   "metadata": {},
   "outputs": [
    {
     "name": "stdout",
     "output_type": "stream",
     "text": [
      "Tenes 32. Sos mayor de edad.\n"
     ]
    }
   ],
   "source": [
    "# 7. Ingresar la edad de una persona por teclado,\n",
    "#  mostrar por pantalla si es mayor o menor de edad.\n",
    "\n",
    "edad = int(input(\"Ingresar edad: \"))\n",
    "mayor_de_edad = 18\n",
    "\n",
    "if edad >= mayor_de_edad:\n",
    "    print(f\"Tenes {edad}. Sos mayor de edad.\")\n",
    "else:\n",
    "    print(f\"Tenes {edad}. Sos menor de edad.\")"
   ]
  },
  {
   "cell_type": "code",
   "execution_count": 11,
   "metadata": {},
   "outputs": [
    {
     "name": "stdout",
     "output_type": "stream",
     "text": [
      "Es numero inpar\n"
     ]
    }
   ],
   "source": [
    "# 8. Ingresar un número por teclado y \n",
    "# mostrar por pantalla si es para o impar. \n",
    "\n",
    "numero = int(input(\"Ingresar un numero por teclado: \"))\n",
    "\n",
    "if numero % 2 == 0:\n",
    "    print(\"Es numero par\")\n",
    "else:\n",
    "    print(\"Es numero inpar\")"
   ]
  },
  {
   "cell_type": "code",
   "execution_count": null,
   "metadata": {},
   "outputs": [],
   "source": [
    "# 9. Ingresar por teclado tres números y mostrar por pantalla el mayor de los tres. \n",
    "a = int(input(\"Ingresar el primer numero: \"))\n",
    "b = int(input(\"Ingresar el segundo numero: \"))\n",
    "c = int(input(\"Ingresar el tercer numero: \"))\n",
    "\n",
    "if a > b and a > c:\n",
    "    print(\"El mayor es el primero número:\", a)\n",
    "elif b > a and b > c:\n",
    "    print(\"El mayor es el segundo número:\", b)\n",
    "elif c > a and c > b:\n",
    "    print(\"El mayor es el tercer número:\", c)\n",
    "else:\n",
    "    print(\"Hay números iguales, por lo tanto, no hay un único mayor.\")\n"
   ]
  },
  {
   "cell_type": "code",
   "execution_count": 12,
   "metadata": {},
   "outputs": [
    {
     "name": "stdout",
     "output_type": "stream",
     "text": [
      "Bienvenido anonimo\n"
     ]
    }
   ],
   "source": [
    "# 10. Ingresar por teclado un nombre, si la variable nombre, no es nula mostrar \n",
    "# por pantalla ‘Bienvenido ‘+ nombre, sino mostrar ‘Bienvenido anónimo’ \n",
    "\n",
    "nombre = input(\"Ingresar un nombre: \")\n",
    "\n",
    "if nombre:\n",
    "    print(f\"Bienvenido {nombre}\")\n",
    "else:\n",
    "    print(f\"Bienvenido anonimo\")"
   ]
  },
  {
   "cell_type": "markdown",
   "metadata": {},
   "source": [
    "Actividad N° 2         "
   ]
  },
  {
   "cell_type": "code",
   "execution_count": null,
   "metadata": {},
   "outputs": [],
   "source": [
    "# 1. Imprimir los números del 1 al 20 utilizando un bucle for "
   ]
  },
  {
   "cell_type": "code",
   "execution_count": null,
   "metadata": {},
   "outputs": [],
   "source": [
    "# 2. Imprimir los números pares del 1 al 20 utilizando un bucle while "
   ]
  },
  {
   "cell_type": "code",
   "execution_count": null,
   "metadata": {},
   "outputs": [],
   "source": [
    "# 3. Imprimir los números impares del 1 al 30 utilizando un bucle for "
   ]
  },
  {
   "cell_type": "code",
   "execution_count": null,
   "metadata": {},
   "outputs": [],
   "source": [
    "# 4. Ingresar un número por teclado y mostrar su tabla de multiplicar del 1 al 10. "
   ]
  },
  {
   "cell_type": "code",
   "execution_count": null,
   "metadata": {},
   "outputs": [],
   "source": [
    "# 5. Imprimir los números del 1 al 100, para los múltiplos de 3, imprimir “múltiplo de 3”, para los múltiplos de 5 imprimir “múltiplo de 5” y para los múltiplos de 3 y de 5 imprimir “múltiplo de 3 y 5”. "
   ]
  },
  {
   "cell_type": "code",
   "execution_count": null,
   "metadata": {},
   "outputs": [],
   "source": [
    "# 6. Ingresar un número por teclado e imprimir si es número primo o no. "
   ]
  },
  {
   "cell_type": "code",
   "execution_count": null,
   "metadata": {},
   "outputs": [],
   "source": [
    "# 7. A partir de una lista vacía, utilizar un ciclo while para cargar \n",
    "# allí números negativos del -20 al -1 "
   ]
  },
  {
   "cell_type": "code",
   "execution_count": null,
   "metadata": {},
   "outputs": [],
   "source": [
    "# 8. A partir de la variable cadena, mostrar en qué posiciones aparece la letra \"n\" cadena = 'Hola Politécnico. Esto es una práctica programación con Python' "
   ]
  },
  {
   "cell_type": "code",
   "execution_count": null,
   "metadata": {},
   "outputs": [],
   "source": [
    "# 9. Convertir en una lista la variable \"cadena\" del punto 10 \n",
    "# y luego recorrerla con un iterador "
   ]
  },
  {
   "cell_type": "code",
   "execution_count": null,
   "metadata": {},
   "outputs": [],
   "source": [
    "# 10. A partir de la siguiente lista de números, crear una lista nueva sólo si el número es divisible por \n",
    "# 5 lista1=[18,25,29,32,35,42,50,60,63,100] "
   ]
  },
  {
   "cell_type": "code",
   "execution_count": null,
   "metadata": {},
   "outputs": [],
   "source": [
    "# 11. Imprimir los números primos del 1 al 100 "
   ]
  },
  {
   "cell_type": "code",
   "execution_count": null,
   "metadata": {},
   "outputs": [],
   "source": [
    "# 12. Imprimir los números del 10 al 1 utilizando un bucle while. S"
   ]
  },
  {
   "cell_type": "code",
   "execution_count": null,
   "metadata": {},
   "outputs": [],
   "source": [
    "# 13.Imprimir los números del 1 al 30, no mostrando los que son múltiplos de 3. "
   ]
  },
  {
   "cell_type": "code",
   "execution_count": null,
   "metadata": {},
   "outputs": [],
   "source": [
    "# 14. Ingresar una cadena por teclado y contar la cantidad de letras ‘a’ que aparecen en la misma. Imprimir la cadena y la cantidad de ‘a’ que aparecen. "
   ]
  },
  {
   "cell_type": "code",
   "execution_count": null,
   "metadata": {},
   "outputs": [],
   "source": [
    "# 15. dada una lista de marca de vehículos marcas =[‘Ford’,’Renault’,’Peugeot’,’Audi’,’Toyota’], recorrer la lista con un bucle for y en caso de que la marca sea ‘Audi’ salir del bucle. "
   ]
  }
 ],
 "metadata": {
  "kernelspec": {
   "display_name": "Python 3",
   "language": "python",
   "name": "python3"
  },
  "language_info": {
   "codemirror_mode": {
    "name": "ipython",
    "version": 3
   },
   "file_extension": ".py",
   "mimetype": "text/x-python",
   "name": "python",
   "nbconvert_exporter": "python",
   "pygments_lexer": "ipython3",
   "version": "3.12.1"
  }
 },
 "nbformat": 4,
 "nbformat_minor": 2
}
