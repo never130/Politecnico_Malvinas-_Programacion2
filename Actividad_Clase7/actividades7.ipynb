{
 "cells": [
  {
   "cell_type": "markdown",
   "metadata": {},
   "source": [
    "Actividad N° 1  \n",
    "1. Crea la clase base \"Persona\" con los siguientes atributos: ○ nombre ○ edad Incluir un constructor que inicialice los atributos \n",
    "2. Crea la clase base \"Vehículo\" con los siguientes atributos: ○ marca ○ modelo Incluir un constructor que inicialice los atributos \n",
    "3. Crea la clase base \"Animal\" con los siguientes atributos: ○ nombre ○ edad ○ especie Incluir un constructor que inicialice los atributos \n",
    "4. Crea una clase \"Estudiante\" que herede de \"Persona\" y tenga un atributo adicional \"escuela\". Agrega métodos para imprimir la información del estudiante."
   ]
  },
  {
   "cell_type": "markdown",
   "metadata": {},
   "source": [
    "5. Crea una clase \"Empleado\" que herede de \"Persona\" y tenga atributos adicionales como \"empresa\" y \"puesto\". Agrega métodos para imprimir la información del empleado. \n",
    "6. Crea una clase \"Coche\" que herede de \"Vehículo\" y tenga atributos adicionales como \"color\" y \"velocidad\". Agrega métodos para imprimir la información del coche. \n",
    "7. Crea una clase \"Perro\" que herede de \"Animal\" y tenga un atributo adicional \"raza\". Agrega métodos para imprimir la información del gato. \n",
    "8. Crea una clase \"EstudianteUniversitario\" que herede de \"Estudiante\" y tenga atributos adicionales como \"carrera\" y \"semestre\". Agrega métodos para imprimir la información del estudiante universitario. \n",
    "9. Crea una clase \"Camioneta\" que herede de \"Vehículo\" y tenga un atributo adicional \"capacidad_carga\". Agrega métodos para imprimir la información de la camioneta. \n",
    "10. Crea una clase \"Profesor\" que herede de \"Empleado\" y tenga atributos adicionales como \"materia\" y \"experiencia\". Agrega métodos para imprimir la información del profesor. \n",
    "11. Crea una clase \"Motocicleta\" que herede de \"Vehículo\" y tenga atributos adicionales como \"cilindrada\" y \"marca\". Agrega métodos para imprimir la información de la motocicleta. \n",
    "12. Crea una clase \"Ave\" que herede de \"Animal\" y tenga atributos adicionales como \"especie\" y \"habitat\". Agrega métodos para imprimir la información del ave. \n",
    "13. Crea una clase \"Cliente\" que herede de \"Persona\" y tenga atributos adicionales como \"direccion\" y \"telefono\". Agrega métodos para imprimir la información del cliente. 14. Crea una clase \"Bicicleta\" que herede de \"Vehículo\" y tenga atributos adicionales como \"tipo\""
   ]
  },
  {
   "cell_type": "code",
   "execution_count": 22,
   "metadata": {},
   "outputs": [
    {
     "name": "stdout",
     "output_type": "stream",
     "text": [
      "Hola mi nombres es Ever\n"
     ]
    }
   ],
   "source": [
    "class Persona:\n",
    "    def __init__(self, nombre, edad):\n",
    "        self.nombre = nombre\n",
    "        self.edad = edad\n",
    "\n",
    "    def saludar(self):\n",
    "        print(f\"Hola mi nombres es {self.nombre}\")\n",
    "\n",
    "\n",
    "persona1 = Persona(\"Ever\", 28)\n",
    "persona1.saludar()"
   ]
  },
  {
   "cell_type": "code",
   "execution_count": 11,
   "metadata": {},
   "outputs": [],
   "source": [
    "class Vehiculo:\n",
    "    def __init__(self, marca, modelo):\n",
    "        self.marca = marca\n",
    "        self.modelo = modelo\n",
    "\n",
    "\n",
    "vehiculo1 = Vehiculo(\"Ford\", \"Ka\")"
   ]
  },
  {
   "cell_type": "code",
   "execution_count": 10,
   "metadata": {},
   "outputs": [],
   "source": [
    "class Animal:\n",
    "    def __init__(self, nombre, edad, especie):\n",
    "        self.nombre = nombre\n",
    "        self.edad = edad\n",
    "        self.especie = especie\n",
    "\n",
    "mono = Animal(\"mono\", 10, \"Primate\")"
   ]
  },
  {
   "cell_type": "code",
   "execution_count": 18,
   "metadata": {},
   "outputs": [
    {
     "name": "stdout",
     "output_type": "stream",
     "text": [
      "Hola mi nombres es Ever\n",
      "Soy estudiante y asisto a la escuela escuela 32\n"
     ]
    }
   ],
   "source": [
    "class Estudiante(Persona):\n",
    "    def __init__(self, nombre, edad, escuela):\n",
    "        super().__init__(nombre, edad)\n",
    "        self.escuela = escuela\n",
    "\n",
    "    def saludar(self):\n",
    "        super().saludar()\n",
    "        print(f\"Soy estudiante y asisto a la escuela {self.escuela}\")\n",
    "\n",
    "\n",
    "estudiante1 = Estudiante(\"Ever\", 39, \"escuela 32\")\n",
    "estudiante1.saludar()"
   ]
  },
  {
   "cell_type": "code",
   "execution_count": 32,
   "metadata": {},
   "outputs": [
    {
     "name": "stdout",
     "output_type": "stream",
     "text": [
      "Hola mi nombres es ever\n",
      "Soy empleado y trabajo en la empresa mirgor de it\n"
     ]
    }
   ],
   "source": [
    "class Empleado(Persona):\n",
    "    def __init__(self, nombre, edad, empresa, puesto):\n",
    "        super().__init__(nombre,edad)\n",
    "        self.empresa = empresa\n",
    "        self.puesto = puesto\n",
    "    def saludar_empleado(self):\n",
    "        super().saludar()\n",
    "        print(f\"Soy empleado y trabajo en la empresa {self.empresa} de {self.puesto}\")\n",
    "\n",
    "empleado1=Empleado('ever', 23, \"mirgor\", \"it\")\n",
    "empleado1.saludar_empleado()\n"
   ]
  },
  {
   "cell_type": "code",
   "execution_count": 34,
   "metadata": {},
   "outputs": [
    {
     "name": "stdout",
     "output_type": "stream",
     "text": [
      "Marca: Ford, Modelo: Ka, Color: verde, Velocidad: 2000\n"
     ]
    }
   ],
   "source": [
    "class Coche(Vehiculo):\n",
    "    def __init__(self, marca, modelo, color, velocidad):\n",
    "        super().__init__(marca, modelo)\n",
    "        self.color = color\n",
    "        self.velocidad = velocidad\n",
    "    def info_coche(self):\n",
    "        print(f\"Marca: {self.marca}, Modelo: {self.modelo}, Color: {self.color}, Velocidad: {self.velocidad}\")\n",
    "\n",
    "coche1 = Coche('Ford','Ka','verde',2000)\n",
    "coche1.info_coche()"
   ]
  },
  {
   "cell_type": "code",
   "execution_count": 41,
   "metadata": {},
   "outputs": [
    {
     "name": "stdout",
     "output_type": "stream",
     "text": [
      "Hola mi nombres es Ever\n",
      "Soy estudiante y asisto a la escuela Cent\n",
      "Estudio en la carrera: Programacion del semestre: 2\n"
     ]
    }
   ],
   "source": [
    "class EstudianteUniversitario(Estudiante):\n",
    "    def __init__(self,nombre,edad,escuela,carrera,semestre):\n",
    "        super().__init__(nombre,edad,escuela)\n",
    "        self.carrera = carrera\n",
    "        self.semestre = semestre\n",
    "    def info_estudiante(self):\n",
    "        super().saludar()\n",
    "        print(f\"Estudio en la carrera: {self.carrera} del semestre: {self.semestre}\")\n",
    "\n",
    "estudiante1 = EstudianteUniversitario('Ever',23,'Cent','Programacion','2')\n",
    "estudiante1.info_estudiante()\n",
    "\n"
   ]
  },
  {
   "cell_type": "code",
   "execution_count": 46,
   "metadata": {},
   "outputs": [
    {
     "name": "stdout",
     "output_type": "stream",
     "text": [
      "Camioneta: Ford, modelo: Ranger, capacidad: 20000\n",
      "La capacidad es de: 20000\n"
     ]
    }
   ],
   "source": [
    "class Camioneta(Vehiculo):\n",
    "    def __init__(self,marca, modelo,capacidad_carga ):\n",
    "        super().__init__(marca,modelo)\n",
    "        self.capacidad_carga = capacidad_carga\n",
    "    def info_camioneta(self):\n",
    "        print(f\"Camioneta: {self.marca}, modelo: {self.modelo}, capacidad: {self.capacidad_carga}\")\n",
    "    def capacidad_camioneta(self):\n",
    "        print(f\"La capacidad es de: {self.capacidad_carga}\")\n",
    "\n",
    "camioneta1=Camioneta('Ford','Ranger', 20000)\n",
    "camioneta1.info_camioneta()\n",
    "camioneta1.capacidad_camioneta()"
   ]
  },
  {
   "cell_type": "code",
   "execution_count": 53,
   "metadata": {},
   "outputs": [
    {
     "name": "stdout",
     "output_type": "stream",
     "text": [
      "Profesor: Gonzalo, Materia: Programacion, Experiencia: Senior\n"
     ]
    }
   ],
   "source": [
    "class Profesor(Empleado):\n",
    "    def __init__(self, nombre, edad, materia,experiencia):\n",
    "        super().__init__(nombre,edad,_,_)\n",
    "        self.materia = materia\n",
    "        self.experiencia = experiencia\n",
    "\n",
    "   \n",
    "    def info_profe(self):\n",
    "        print(f\"Profesor: {self.nombre}, Materia: {self.materia}, Experiencia: {self.experiencia}\")\n",
    "        \n",
    "profe1 = Profesor('Gonzalo',34,'Programacion','Senior')\n",
    "profe1.info_profe()"
   ]
  },
  {
   "cell_type": "code",
   "execution_count": 55,
   "metadata": {},
   "outputs": [
    {
     "name": "stdout",
     "output_type": "stream",
     "text": [
      "Marca: Kawasaki, Modelo: a400, Cilindrada: 250\n"
     ]
    }
   ],
   "source": [
    "class Motocicleta(Vehiculo):\n",
    "    def __init__(self,marca, modelo, cilindrada):\n",
    "        super().__init__(marca,modelo)\n",
    "        self.cilindrada = cilindrada\n",
    "\n",
    "    def info_moto(self):\n",
    "        print(f\"Marca: {self.marca}, Modelo: {self.modelo}, Cilindrada: {self.cilindrada}\")\n",
    "\n",
    "moto1 = Motocicleta('Kawasaki','a400', 250)\n",
    "moto1.info_moto()\n",
    "\n",
    "\n"
   ]
  },
  {
   "cell_type": "code",
   "execution_count": 56,
   "metadata": {},
   "outputs": [
    {
     "name": "stdout",
     "output_type": "stream",
     "text": [
      "Nombre: pinguino, Edad: 3, Especie: Mamifero, Habitat: Frio\n"
     ]
    }
   ],
   "source": [
    "class Ave(Animal):\n",
    "    def __init__(self, nombre, edad, especie, habitat):\n",
    "        super().__init__(nombre,edad,especie)\n",
    "        self.habitat = habitat\n",
    "    \n",
    "    def info_ave(self):\n",
    "        print(f\"Nombre: {self.nombre}, Edad: {self.edad}, Especie: {self.especie}, Habitat: {self.habitat}\")\n",
    "\n",
    "ave1=Ave('pinguino', 3, 'Mamifero','Frio')\n",
    "ave1.info_ave()\n"
   ]
  },
  {
   "cell_type": "code",
   "execution_count": 58,
   "metadata": {},
   "outputs": [
    {
     "name": "stdout",
     "output_type": "stream",
     "text": [
      "Marca: Daewoo, Modelo: ds4, Tipo: BMX\n"
     ]
    }
   ],
   "source": [
    "class Bicicleta(Vehiculo):\n",
    "    def __init__(self,  marca, modelo, tipo):\n",
    "        super().__init__(marca,modelo)\n",
    "        self.tipo = tipo\n",
    "    \n",
    "    def info_bici(self):\n",
    "        print(f\"Marca: {self.marca}, Modelo: {self.modelo}, Tipo: {self.tipo}\")\n",
    "    \n",
    "bici = Bicicleta('Daewoo','ds4','BMX')\n",
    "bici.info_bici()\n"
   ]
  },
  {
   "cell_type": "code",
   "execution_count": 60,
   "metadata": {},
   "outputs": [
    {
     "name": "stdout",
     "output_type": "stream",
     "text": [
      "Hola mi nombres es ever\n",
      "Direccion: calle sin nombre, Telefono: 32324\n"
     ]
    }
   ],
   "source": [
    "class Cliente(Persona):\n",
    "    def __init__(self, nombre, edad, direccion,telefono):\n",
    "        super().__init__(nombre, edad)\n",
    "        self.direccion = direccion\n",
    "        self.telefono = telefono\n",
    "    def info_cliente(self):\n",
    "        super().saludar()\n",
    "        print(f\"Direccion: {self.direccion}, Telefono: {self.telefono}\")\n",
    "\n",
    "cliente1=Cliente('ever', 34, 'calle sin nombre', 32324)\n",
    "cliente1.info_cliente()"
   ]
  }
 ],
 "metadata": {
  "kernelspec": {
   "display_name": "Python 3",
   "language": "python",
   "name": "python3"
  },
  "language_info": {
   "codemirror_mode": {
    "name": "ipython",
    "version": 3
   },
   "file_extension": ".py",
   "mimetype": "text/x-python",
   "name": "python",
   "nbconvert_exporter": "python",
   "pygments_lexer": "ipython3",
   "version": "3.12.1"
  }
 },
 "nbformat": 4,
 "nbformat_minor": 2
}
